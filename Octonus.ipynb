{
 "cells": [
  {
   "cell_type": "code",
   "execution_count": 25,
   "id": "ea884fda",
   "metadata": {},
   "outputs": [],
   "source": [
    "import math as m\n",
    "from math import sqrt\n",
    "import numpy as np\n",
    "%matplotlib inline"
   ]
  },
  {
   "cell_type": "code",
   "execution_count": 44,
   "id": "78aed839",
   "metadata": {},
   "outputs": [],
   "source": [
    "f = open(\"D:\\Projects\\OctonusData\\Poly.stl\", \"r\")\n",
    "f.readline()\n",
    "f.readline()\n",
    "f.readline()\n",
    "v = []\n",
    "verts = []\n",
    "\n",
    "for _ in range(3):\n",
    "    l = f.readline().split(' ')\n",
    "    v.append(float(l[1]))\n",
    "    v.append(float(l[2]))\n",
    "    v.append(float(l[3]))\n",
    "    verts.append(v.copy())\n",
    "    v.clear()\n",
    "verts = np.array(verts)"
   ]
  },
  {
   "cell_type": "code",
   "execution_count": 45,
   "id": "c62dbf80",
   "metadata": {},
   "outputs": [
    {
     "name": "stdout",
     "output_type": "stream",
     "text": [
      "[ 0.169955  0.985378  0.012057 -1.977525]\n",
      "2.5009542115761763\n",
      "2.4999316656127166\n",
      "2.49973560207194\n"
     ]
    }
   ],
   "source": [
    "f = open(\"D:\\Projects\\Octonus\\Liza_0\\DllTry\\OctMain\\RundistNorms1.txt\", \"r\")\n",
    "l = f.readline().split(' ')\n",
    "plane = []\n",
    "\n",
    "plane.append(float(l[0]))\n",
    "plane.append(float(l[1]))\n",
    "plane.append(float(l[2]))\n",
    "plane.append(float(l[3]))\n",
    "\n",
    "plane = np.array(plane)\n",
    "print(plane)\n",
    "\n",
    "norm = 0.0\n",
    "for i in range(3):\n",
    "    norm += plane[i]**2\n",
    "norm = sqrt(norm)\n",
    "\n",
    "for i in range(3):\n",
    "    plane[i] /= norm\n",
    "\n",
    "for j in range(3):\n",
    "    s = 0.0\n",
    "    for i in range(3):\n",
    "        s += plane[i] * verts[j][i]\n",
    "    s += plane[3]\n",
    "    s = abs(s)\n",
    "    print(s)"
   ]
  },
  {
   "cell_type": "code",
   "execution_count": null,
   "id": "87f3ef27",
   "metadata": {},
   "outputs": [],
   "source": []
  }
 ],
 "metadata": {
  "kernelspec": {
   "display_name": "Python 3 (ipykernel)",
   "language": "python",
   "name": "python3"
  },
  "language_info": {
   "codemirror_mode": {
    "name": "ipython",
    "version": 3
   },
   "file_extension": ".py",
   "mimetype": "text/x-python",
   "name": "python",
   "nbconvert_exporter": "python",
   "pygments_lexer": "ipython3",
   "version": "3.9.6"
  }
 },
 "nbformat": 4,
 "nbformat_minor": 5
}

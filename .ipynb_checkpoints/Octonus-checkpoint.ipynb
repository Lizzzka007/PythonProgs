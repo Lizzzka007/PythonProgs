{
 "cells": [
  {
   "cell_type": "code",
   "execution_count": 1,
   "id": "81ef46a8",
   "metadata": {},
   "outputs": [],
   "source": [
    "import math as m\n",
    "import numpy as np\n",
    "%matplotlib inline"
   ]
  },
  {
   "cell_type": "code",
   "execution_count": 14,
   "id": "036b72f9",
   "metadata": {},
   "outputs": [
    {
     "data": {
      "text/plain": [
       "array([[-2.96992216,  0.00708878, -2.12832309],\n",
       "       [-2.97121743,  0.00834991, -2.12832309],\n",
       "       [-2.96992216,  0.00834991, -2.1303199 ]])"
      ]
     },
     "execution_count": 14,
     "metadata": {},
     "output_type": "execute_result"
    }
   ],
   "source": [
    "f = open(\"D:\\Projects\\OctonusData\\Poly.stl\", \"r\")\n",
    "f.readline()\n",
    "f.readline()\n",
    "f.readline()\n",
    "v = []\n",
    "verts = []\n",
    "\n",
    "for _ in range(3):\n",
    "    l = f.readline().split(' ')\n",
    "    v.append(float(l[1]))\n",
    "    v.append(float(l[2]))\n",
    "    v.append(float(l[3]))\n",
    "    verts.append(v.copy())\n",
    "    v.clear()\n",
    "verts = np.array(verts)\n",
    "verts"
   ]
  },
  {
   "cell_type": "code",
   "execution_count": 13,
   "id": "0ccace8f",
   "metadata": {},
   "outputs": [
    {
     "data": {
      "text/plain": [
       "[[-2.969922155541953, 0.00708878452682038, -2.128323093576471],\n",
       " [-2.971217433504905, 0.008349909563441837, -2.128323093576471],\n",
       " [-2.969922155541953, 0.008349909563441837, -2.130319895231744]]"
      ]
     },
     "execution_count": 13,
     "metadata": {},
     "output_type": "execute_result"
    }
   ],
   "source": [
    "f = open(\"D:\\Projects\\Octonus\\Liza_0\\DllTry\\PolyRundDist\\RundistNorms.txt\", \"r\")\n",
    "f.readline()\n",
    "plane = []\n",
    "\n",
    "for _ in range(3):\n",
    "    l = f.readline().split(' ')\n",
    "    plane.append(float(l[0]))\n",
    "    plane.append(float(l[1]))\n",
    "    plane.append(float(l[2]))\n",
    "    plane.append(float(l[3]))\n",
    "    verts.append(v.copy())\n",
    "    v.clear()\n",
    "verts = np.array(verts)\n",
    "verts"
   ]
  },
  {
   "cell_type": "code",
   "execution_count": null,
   "id": "df43f3cf",
   "metadata": {},
   "outputs": [],
   "source": []
  }
 ],
 "metadata": {
  "kernelspec": {
   "display_name": "Python 3 (ipykernel)",
   "language": "python",
   "name": "python3"
  },
  "language_info": {
   "codemirror_mode": {
    "name": "ipython",
    "version": 3
   },
   "file_extension": ".py",
   "mimetype": "text/x-python",
   "name": "python",
   "nbconvert_exporter": "python",
   "pygments_lexer": "ipython3",
   "version": "3.9.6"
  }
 },
 "nbformat": 4,
 "nbformat_minor": 5
}

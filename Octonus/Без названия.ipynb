{
 "cells": [
  {
   "cell_type": "code",
   "execution_count": 25,
   "id": "12de0155",
   "metadata": {},
   "outputs": [],
   "source": [
    "import numpy as np\n",
    "from numpy.linalg import inv"
   ]
  },
  {
   "cell_type": "code",
   "execution_count": 22,
   "id": "ffea8a6d",
   "metadata": {},
   "outputs": [],
   "source": [
    "with open('normsChain0.txt') as f:\n",
    "    lines = f.read()\n",
    "    \n",
    "x = []\n",
    "\n",
    "for l in lines.split('\\n'):\n",
    "    for s in l.split(' '):\n",
    "        try:\n",
    "            x.append(float(s))\n",
    "        except:\n",
    "            None\n",
    "\n",
    "n = int(len(x) / 3)\n",
    "x = np.array(x)\n",
    "x = x.reshape((n, 3))\n"
   ]
  },
  {
   "cell_type": "code",
   "execution_count": 31,
   "id": "88946f51",
   "metadata": {},
   "outputs": [],
   "source": [
    "c = np.dot(x.T, x)\n",
    "cinv = inv(c)\n",
    "c = np.dot(x, cinv)\n",
    "h = np.dot(c, x.T)"
   ]
  },
  {
   "cell_type": "code",
   "execution_count": 35,
   "id": "15bccc5e",
   "metadata": {},
   "outputs": [],
   "source": [
    "h_mean = np.trace(h) / n\n",
    "bad_x_id = []\n",
    "\n",
    "for i in range(n):\n",
    "    if h[i][i] > 2 * h_mean:\n",
    "        bad_x_id.append(i)"
   ]
  },
  {
   "cell_type": "code",
   "execution_count": 36,
   "id": "51bdda8d",
   "metadata": {},
   "outputs": [
    {
     "data": {
      "text/plain": [
       "[160, 162, 171]"
      ]
     },
     "execution_count": 36,
     "metadata": {},
     "output_type": "execute_result"
    }
   ],
   "source": [
    "bad_x_id"
   ]
  },
  {
   "cell_type": "code",
   "execution_count": null,
   "id": "6650ad8c",
   "metadata": {},
   "outputs": [],
   "source": []
  }
 ],
 "metadata": {
  "kernelspec": {
   "display_name": "Python 3 (ipykernel)",
   "language": "python",
   "name": "python3"
  },
  "language_info": {
   "codemirror_mode": {
    "name": "ipython",
    "version": 3
   },
   "file_extension": ".py",
   "mimetype": "text/x-python",
   "name": "python",
   "nbconvert_exporter": "python",
   "pygments_lexer": "ipython3",
   "version": "3.8.10"
  }
 },
 "nbformat": 4,
 "nbformat_minor": 5
}
